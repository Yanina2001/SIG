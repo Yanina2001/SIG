{
 "cells": [
  {
   "cell_type": "markdown",
   "id": "697c13ef",
   "metadata": {},
   "source": [
    "### Práctica 2\n",
    "Equipo: \n",
    "Yanina De Luna Ocampo\n",
    "Regina Elizalde Be\n",
    "Implementar un programa en Python que permita leer este archivo CSV para convertir las coordenadas que están en grados minutos y segundos a coordenadas grados decimal para que puedan ser representadas en QGIS y generar como archivo de salida un archivo shapefile. \n",
    "\n",
    "\n",
    "Por ejemplo: El punto de acceso localizado en latitud: 19o 21' 45.380\" N, longitud: 99o 15' 10.643\" O debe ser representado de la siguiente manera en el CSV: latitud: 19.36260558, longitud -99.25295626 (punto ya representado en grados decimal, recordar signos de acuerdo con cuadrante de la longitud)."
   ]
  },
  {
   "cell_type": "code",
   "execution_count": 1,
   "id": "ea5a6def",
   "metadata": {},
   "outputs": [],
   "source": [
    "import numpy as np\n",
    "import pandas as pd"
   ]
  },
  {
   "cell_type": "markdown",
   "id": "b55a306f",
   "metadata": {},
   "source": [
    "**Estudio breve del dataset**"
   ]
  },
  {
   "cell_type": "code",
   "execution_count": 2,
   "id": "cde54143",
   "metadata": {},
   "outputs": [],
   "source": [
    "df = pd.read_csv(\"../SIG/csv/Coordenadas GMS.csv\")\n",
    "df= pd.DataFrame(df)"
   ]
  },
  {
   "cell_type": "code",
   "execution_count": 3,
   "id": "504ae250",
   "metadata": {},
   "outputs": [
    {
     "data": {
      "text/html": [
       "<div>\n",
       "<style scoped>\n",
       "    .dataframe tbody tr th:only-of-type {\n",
       "        vertical-align: middle;\n",
       "    }\n",
       "\n",
       "    .dataframe tbody tr th {\n",
       "        vertical-align: top;\n",
       "    }\n",
       "\n",
       "    .dataframe thead th {\n",
       "        text-align: right;\n",
       "    }\n",
       "</style>\n",
       "<table border=\"1\" class=\"dataframe\">\n",
       "  <thead>\n",
       "    <tr style=\"text-align: right;\">\n",
       "      <th></th>\n",
       "      <th>id</th>\n",
       "      <th>colonia</th>\n",
       "      <th>alcaldia</th>\n",
       "      <th>lat GMS</th>\n",
       "      <th>lon GMS</th>\n",
       "    </tr>\n",
       "  </thead>\n",
       "  <tbody>\n",
       "    <tr>\n",
       "      <th>0</th>\n",
       "      <td>19 DE MAYO-01</td>\n",
       "      <td>19 DE MAYO</td>\n",
       "      <td>Álvaro Obregón</td>\n",
       "      <td>19°21′45.380″N</td>\n",
       "      <td>99°15′10.643″O</td>\n",
       "    </tr>\n",
       "    <tr>\n",
       "      <th>1</th>\n",
       "      <td>1A AMPLIACION SANTIAGO ACAHUALTEPEC-01</td>\n",
       "      <td>1A AMPLIACION SANTIAGO ACAHUALTEPEC</td>\n",
       "      <td>Iztapalapa</td>\n",
       "      <td>19°21′9.144″N</td>\n",
       "      <td>99°0′37.404″O</td>\n",
       "    </tr>\n",
       "    <tr>\n",
       "      <th>2</th>\n",
       "      <td>1A AMPLIACION SANTIAGO ACAHUALTEPEC-02</td>\n",
       "      <td>1A AMPLIACION SANTIAGO ACAHUALTEPEC</td>\n",
       "      <td>Iztapalapa</td>\n",
       "      <td>19°21′4.504″N</td>\n",
       "      <td>99°0′35.969″O</td>\n",
       "    </tr>\n",
       "    <tr>\n",
       "      <th>3</th>\n",
       "      <td>SAN LORENZO ACOPILCO (PBLO)-01</td>\n",
       "      <td>SAN LORENZO ACOPILCO (PBLO)</td>\n",
       "      <td>Cuajimalpa de Morelos</td>\n",
       "      <td>19°19′54.833″N</td>\n",
       "      <td>99°19′32.656″O</td>\n",
       "    </tr>\n",
       "    <tr>\n",
       "      <th>4</th>\n",
       "      <td>26 DE JULIO-01</td>\n",
       "      <td>26 DE JULIO</td>\n",
       "      <td>Álvaro Obregón</td>\n",
       "      <td>19°21′27.907″N</td>\n",
       "      <td>99°15′3.780″O</td>\n",
       "    </tr>\n",
       "    <tr>\n",
       "      <th>...</th>\n",
       "      <td>...</td>\n",
       "      <td>...</td>\n",
       "      <td>...</td>\n",
       "      <td>...</td>\n",
       "      <td>...</td>\n",
       "    </tr>\n",
       "    <tr>\n",
       "      <th>30946</th>\n",
       "      <td>1504_INVI_02</td>\n",
       "      <td>TRANSVAL 231, COL. PENSADOR MEXICANO</td>\n",
       "      <td>Venustiano Carranza</td>\n",
       "      <td>19°26′32.978″N</td>\n",
       "      <td>99°5′16.332″O</td>\n",
       "    </tr>\n",
       "    <tr>\n",
       "      <th>30947</th>\n",
       "      <td>5104_PROSOC_01</td>\n",
       "      <td>PERIFERICO SUR NO.3915 COL. PEDREGAL DE CARRAZCO</td>\n",
       "      <td>Coyoacán</td>\n",
       "      <td>19°18′11.974″N</td>\n",
       "      <td>99°10′30.871″O</td>\n",
       "    </tr>\n",
       "    <tr>\n",
       "      <th>30948</th>\n",
       "      <td>5104_PROSOC_02</td>\n",
       "      <td>PERIFERICO SUR NO.3915 COL. PEDREGAL DE CARRAZCO</td>\n",
       "      <td>Coyoacán</td>\n",
       "      <td>19°18′11.974″N</td>\n",
       "      <td>99°10′30.871″O</td>\n",
       "    </tr>\n",
       "    <tr>\n",
       "      <th>30949</th>\n",
       "      <td>710_INVI_01</td>\n",
       "      <td>ACUEDUCTO 941 ANTES ACUEDUCTO 917 O 941, COL. ...</td>\n",
       "      <td>Gustavo A. Madero</td>\n",
       "      <td>19°31′11.276″N</td>\n",
       "      <td>99°8′12.404″O</td>\n",
       "    </tr>\n",
       "    <tr>\n",
       "      <th>30950</th>\n",
       "      <td>710_INVI_02</td>\n",
       "      <td>ACUEDUCTO 941 ANTES ACUEDUCTO 917 O 941, COL. ...</td>\n",
       "      <td>Gustavo A. Madero</td>\n",
       "      <td>19°31′11.276″N</td>\n",
       "      <td>99°8′12.404″O</td>\n",
       "    </tr>\n",
       "  </tbody>\n",
       "</table>\n",
       "<p>30951 rows × 5 columns</p>\n",
       "</div>"
      ],
      "text/plain": [
       "                                           id  \\\n",
       "0                               19 DE MAYO-01   \n",
       "1      1A AMPLIACION SANTIAGO ACAHUALTEPEC-01   \n",
       "2      1A AMPLIACION SANTIAGO ACAHUALTEPEC-02   \n",
       "3              SAN LORENZO ACOPILCO (PBLO)-01   \n",
       "4                              26 DE JULIO-01   \n",
       "...                                       ...   \n",
       "30946                            1504_INVI_02   \n",
       "30947                          5104_PROSOC_01   \n",
       "30948                          5104_PROSOC_02   \n",
       "30949                             710_INVI_01   \n",
       "30950                             710_INVI_02   \n",
       "\n",
       "                                                 colonia  \\\n",
       "0                                             19 DE MAYO   \n",
       "1                    1A AMPLIACION SANTIAGO ACAHUALTEPEC   \n",
       "2                    1A AMPLIACION SANTIAGO ACAHUALTEPEC   \n",
       "3                            SAN LORENZO ACOPILCO (PBLO)   \n",
       "4                                            26 DE JULIO   \n",
       "...                                                  ...   \n",
       "30946               TRANSVAL 231, COL. PENSADOR MEXICANO   \n",
       "30947   PERIFERICO SUR NO.3915 COL. PEDREGAL DE CARRAZCO   \n",
       "30948   PERIFERICO SUR NO.3915 COL. PEDREGAL DE CARRAZCO   \n",
       "30949  ACUEDUCTO 941 ANTES ACUEDUCTO 917 O 941, COL. ...   \n",
       "30950  ACUEDUCTO 941 ANTES ACUEDUCTO 917 O 941, COL. ...   \n",
       "\n",
       "                    alcaldia         lat GMS         lon GMS  \n",
       "0             Álvaro Obregón  19°21′45.380″N  99°15′10.643″O  \n",
       "1                 Iztapalapa   19°21′9.144″N   99°0′37.404″O  \n",
       "2                 Iztapalapa   19°21′4.504″N   99°0′35.969″O  \n",
       "3      Cuajimalpa de Morelos  19°19′54.833″N  99°19′32.656″O  \n",
       "4             Álvaro Obregón  19°21′27.907″N   99°15′3.780″O  \n",
       "...                      ...             ...             ...  \n",
       "30946    Venustiano Carranza  19°26′32.978″N   99°5′16.332″O  \n",
       "30947               Coyoacán  19°18′11.974″N  99°10′30.871″O  \n",
       "30948               Coyoacán  19°18′11.974″N  99°10′30.871″O  \n",
       "30949      Gustavo A. Madero  19°31′11.276″N   99°8′12.404″O  \n",
       "30950      Gustavo A. Madero  19°31′11.276″N   99°8′12.404″O  \n",
       "\n",
       "[30951 rows x 5 columns]"
      ]
     },
     "execution_count": 3,
     "metadata": {},
     "output_type": "execute_result"
    }
   ],
   "source": [
    "df"
   ]
  },
  {
   "cell_type": "code",
   "execution_count": 4,
   "id": "7481ac92",
   "metadata": {},
   "outputs": [
    {
     "name": "stdout",
     "output_type": "stream",
     "text": [
      "<class 'pandas.core.frame.DataFrame'>\n",
      "RangeIndex: 30951 entries, 0 to 30950\n",
      "Data columns (total 5 columns):\n",
      " #   Column    Non-Null Count  Dtype \n",
      "---  ------    --------------  ----- \n",
      " 0   id        30948 non-null  object\n",
      " 1   colonia   30946 non-null  object\n",
      " 2   alcaldia  30948 non-null  object\n",
      " 3   lat GMS   30948 non-null  object\n",
      " 4   lon GMS   30948 non-null  object\n",
      "dtypes: object(5)\n",
      "memory usage: 1.2+ MB\n"
     ]
    }
   ],
   "source": [
    "df.info()"
   ]
  },
  {
   "cell_type": "code",
   "execution_count": 5,
   "id": "d0d7584c",
   "metadata": {},
   "outputs": [],
   "source": [
    "strings= []\n",
    "strings = df['lat GMS'].apply(str)"
   ]
  },
  {
   "cell_type": "code",
   "execution_count": 6,
   "id": "788a1a0b",
   "metadata": {},
   "outputs": [
    {
     "data": {
      "text/plain": [
       "id          object\n",
       "colonia     object\n",
       "alcaldia    object\n",
       "lat GMS     string\n",
       "lon GMS     string\n",
       "dtype: object"
      ]
     },
     "execution_count": 6,
     "metadata": {},
     "output_type": "execute_result"
    }
   ],
   "source": [
    "df['lat GMS'] = df['lat GMS'].astype('string')\n",
    "df.dtypes\n",
    "df['lon GMS'] = df['lon GMS'].astype('string')\n",
    "df.dtypes\n",
    "#country    string"
   ]
  },
  {
   "cell_type": "code",
   "execution_count": 7,
   "id": "8a10052f",
   "metadata": {
    "scrolled": false
   },
   "outputs": [
    {
     "data": {
      "text/html": [
       "<div>\n",
       "<style scoped>\n",
       "    .dataframe tbody tr th:only-of-type {\n",
       "        vertical-align: middle;\n",
       "    }\n",
       "\n",
       "    .dataframe tbody tr th {\n",
       "        vertical-align: top;\n",
       "    }\n",
       "\n",
       "    .dataframe thead th {\n",
       "        text-align: right;\n",
       "    }\n",
       "</style>\n",
       "<table border=\"1\" class=\"dataframe\">\n",
       "  <thead>\n",
       "    <tr style=\"text-align: right;\">\n",
       "      <th></th>\n",
       "      <th>id</th>\n",
       "      <th>colonia</th>\n",
       "      <th>alcaldia</th>\n",
       "      <th>lat GMS</th>\n",
       "      <th>lon GMS</th>\n",
       "    </tr>\n",
       "  </thead>\n",
       "  <tbody>\n",
       "    <tr>\n",
       "      <th>0</th>\n",
       "      <td>19 DE MAYO-01</td>\n",
       "      <td>19 DE MAYO</td>\n",
       "      <td>Álvaro Obregón</td>\n",
       "      <td>19°21′45.380″N</td>\n",
       "      <td>99°15′10.643″O</td>\n",
       "    </tr>\n",
       "    <tr>\n",
       "      <th>1</th>\n",
       "      <td>1A AMPLIACION SANTIAGO ACAHUALTEPEC-01</td>\n",
       "      <td>1A AMPLIACION SANTIAGO ACAHUALTEPEC</td>\n",
       "      <td>Iztapalapa</td>\n",
       "      <td>19°21′9.144″N</td>\n",
       "      <td>99°0′37.404″O</td>\n",
       "    </tr>\n",
       "    <tr>\n",
       "      <th>2</th>\n",
       "      <td>1A AMPLIACION SANTIAGO ACAHUALTEPEC-02</td>\n",
       "      <td>1A AMPLIACION SANTIAGO ACAHUALTEPEC</td>\n",
       "      <td>Iztapalapa</td>\n",
       "      <td>19°21′4.504″N</td>\n",
       "      <td>99°0′35.969″O</td>\n",
       "    </tr>\n",
       "    <tr>\n",
       "      <th>3</th>\n",
       "      <td>SAN LORENZO ACOPILCO (PBLO)-01</td>\n",
       "      <td>SAN LORENZO ACOPILCO (PBLO)</td>\n",
       "      <td>Cuajimalpa de Morelos</td>\n",
       "      <td>19°19′54.833″N</td>\n",
       "      <td>99°19′32.656″O</td>\n",
       "    </tr>\n",
       "    <tr>\n",
       "      <th>4</th>\n",
       "      <td>26 DE JULIO-01</td>\n",
       "      <td>26 DE JULIO</td>\n",
       "      <td>Álvaro Obregón</td>\n",
       "      <td>19°21′27.907″N</td>\n",
       "      <td>99°15′3.780″O</td>\n",
       "    </tr>\n",
       "    <tr>\n",
       "      <th>...</th>\n",
       "      <td>...</td>\n",
       "      <td>...</td>\n",
       "      <td>...</td>\n",
       "      <td>...</td>\n",
       "      <td>...</td>\n",
       "    </tr>\n",
       "    <tr>\n",
       "      <th>30946</th>\n",
       "      <td>1504_INVI_02</td>\n",
       "      <td>TRANSVAL 231, COL. PENSADOR MEXICANO</td>\n",
       "      <td>Venustiano Carranza</td>\n",
       "      <td>19°26′32.978″N</td>\n",
       "      <td>99°5′16.332″O</td>\n",
       "    </tr>\n",
       "    <tr>\n",
       "      <th>30947</th>\n",
       "      <td>5104_PROSOC_01</td>\n",
       "      <td>PERIFERICO SUR NO.3915 COL. PEDREGAL DE CARRAZCO</td>\n",
       "      <td>Coyoacán</td>\n",
       "      <td>19°18′11.974″N</td>\n",
       "      <td>99°10′30.871″O</td>\n",
       "    </tr>\n",
       "    <tr>\n",
       "      <th>30948</th>\n",
       "      <td>5104_PROSOC_02</td>\n",
       "      <td>PERIFERICO SUR NO.3915 COL. PEDREGAL DE CARRAZCO</td>\n",
       "      <td>Coyoacán</td>\n",
       "      <td>19°18′11.974″N</td>\n",
       "      <td>99°10′30.871″O</td>\n",
       "    </tr>\n",
       "    <tr>\n",
       "      <th>30949</th>\n",
       "      <td>710_INVI_01</td>\n",
       "      <td>ACUEDUCTO 941 ANTES ACUEDUCTO 917 O 941, COL. ...</td>\n",
       "      <td>Gustavo A. Madero</td>\n",
       "      <td>19°31′11.276″N</td>\n",
       "      <td>99°8′12.404″O</td>\n",
       "    </tr>\n",
       "    <tr>\n",
       "      <th>30950</th>\n",
       "      <td>710_INVI_02</td>\n",
       "      <td>ACUEDUCTO 941 ANTES ACUEDUCTO 917 O 941, COL. ...</td>\n",
       "      <td>Gustavo A. Madero</td>\n",
       "      <td>19°31′11.276″N</td>\n",
       "      <td>99°8′12.404″O</td>\n",
       "    </tr>\n",
       "  </tbody>\n",
       "</table>\n",
       "<p>30951 rows × 5 columns</p>\n",
       "</div>"
      ],
      "text/plain": [
       "                                           id  \\\n",
       "0                               19 DE MAYO-01   \n",
       "1      1A AMPLIACION SANTIAGO ACAHUALTEPEC-01   \n",
       "2      1A AMPLIACION SANTIAGO ACAHUALTEPEC-02   \n",
       "3              SAN LORENZO ACOPILCO (PBLO)-01   \n",
       "4                              26 DE JULIO-01   \n",
       "...                                       ...   \n",
       "30946                            1504_INVI_02   \n",
       "30947                          5104_PROSOC_01   \n",
       "30948                          5104_PROSOC_02   \n",
       "30949                             710_INVI_01   \n",
       "30950                             710_INVI_02   \n",
       "\n",
       "                                                 colonia  \\\n",
       "0                                             19 DE MAYO   \n",
       "1                    1A AMPLIACION SANTIAGO ACAHUALTEPEC   \n",
       "2                    1A AMPLIACION SANTIAGO ACAHUALTEPEC   \n",
       "3                            SAN LORENZO ACOPILCO (PBLO)   \n",
       "4                                            26 DE JULIO   \n",
       "...                                                  ...   \n",
       "30946               TRANSVAL 231, COL. PENSADOR MEXICANO   \n",
       "30947   PERIFERICO SUR NO.3915 COL. PEDREGAL DE CARRAZCO   \n",
       "30948   PERIFERICO SUR NO.3915 COL. PEDREGAL DE CARRAZCO   \n",
       "30949  ACUEDUCTO 941 ANTES ACUEDUCTO 917 O 941, COL. ...   \n",
       "30950  ACUEDUCTO 941 ANTES ACUEDUCTO 917 O 941, COL. ...   \n",
       "\n",
       "                    alcaldia         lat GMS         lon GMS  \n",
       "0             Álvaro Obregón  19°21′45.380″N  99°15′10.643″O  \n",
       "1                 Iztapalapa   19°21′9.144″N   99°0′37.404″O  \n",
       "2                 Iztapalapa   19°21′4.504″N   99°0′35.969″O  \n",
       "3      Cuajimalpa de Morelos  19°19′54.833″N  99°19′32.656″O  \n",
       "4             Álvaro Obregón  19°21′27.907″N   99°15′3.780″O  \n",
       "...                      ...             ...             ...  \n",
       "30946    Venustiano Carranza  19°26′32.978″N   99°5′16.332″O  \n",
       "30947               Coyoacán  19°18′11.974″N  99°10′30.871″O  \n",
       "30948               Coyoacán  19°18′11.974″N  99°10′30.871″O  \n",
       "30949      Gustavo A. Madero  19°31′11.276″N   99°8′12.404″O  \n",
       "30950      Gustavo A. Madero  19°31′11.276″N   99°8′12.404″O  \n",
       "\n",
       "[30951 rows x 5 columns]"
      ]
     },
     "execution_count": 7,
     "metadata": {},
     "output_type": "execute_result"
    }
   ],
   "source": [
    "df"
   ]
  },
  {
   "cell_type": "code",
   "execution_count": 8,
   "id": "cbea0a6f",
   "metadata": {},
   "outputs": [
    {
     "data": {
      "text/plain": [
       "id          3\n",
       "colonia     5\n",
       "alcaldia    3\n",
       "lat GMS     3\n",
       "lon GMS     3\n",
       "dtype: int64"
      ]
     },
     "execution_count": 8,
     "metadata": {},
     "output_type": "execute_result"
    }
   ],
   "source": [
    "df.isnull().sum()"
   ]
  },
  {
   "cell_type": "code",
   "execution_count": 9,
   "id": "63238182",
   "metadata": {},
   "outputs": [],
   "source": [
    "df_1 = df.dropna()"
   ]
  },
  {
   "cell_type": "code",
   "execution_count": 10,
   "id": "bef2f2af",
   "metadata": {
    "scrolled": false
   },
   "outputs": [
    {
     "data": {
      "text/plain": [
       "id          0\n",
       "colonia     0\n",
       "alcaldia    0\n",
       "lat GMS     0\n",
       "lon GMS     0\n",
       "dtype: int64"
      ]
     },
     "execution_count": 10,
     "metadata": {},
     "output_type": "execute_result"
    }
   ],
   "source": [
    "df_1.isnull().sum()"
   ]
  },
  {
   "cell_type": "markdown",
   "id": "26c56007",
   "metadata": {},
   "source": [
    "**Preparar columna lat GMS para transformar a decimales**"
   ]
  },
  {
   "cell_type": "code",
   "execution_count": 11,
   "id": "9ec194b0",
   "metadata": {},
   "outputs": [],
   "source": [
    "pri_div = df_1[\"lat GMS\"].apply(lambda x: pd.Series(str(x).split(\"°\")))\n",
    "seg_div = pri_div[1].apply(lambda x: pd.Series(str(x).split(\"′\")))\n",
    "ter_div = seg_div[1].apply(lambda x: pd.Series(str(x).split(\"″N\")))"
   ]
  },
  {
   "cell_type": "code",
   "execution_count": 12,
   "id": "273aa302",
   "metadata": {},
   "outputs": [],
   "source": [
    "grados_lat = (pri_div[0])\n",
    "minutos_lat = seg_div[0]\n",
    "segundos_lat = ter_div[0]"
   ]
  },
  {
   "cell_type": "code",
   "execution_count": 13,
   "id": "9161e653",
   "metadata": {},
   "outputs": [],
   "source": [
    "grados_lat = (grados_lat).apply(float)\n",
    "minutos_lat = (minutos_lat).apply(float)\n",
    "segundos_lat = (segundos_lat).apply(float)"
   ]
  },
  {
   "cell_type": "code",
   "execution_count": 14,
   "id": "ac2b2ecb",
   "metadata": {},
   "outputs": [
    {
     "name": "stdout",
     "output_type": "stream",
     "text": [
      "30946\n",
      "30946\n",
      "30946\n"
     ]
    }
   ],
   "source": [
    "print(len(grados_lat))\n",
    "print(len(minutos_lat))\n",
    "print(len(segundos_lat))"
   ]
  },
  {
   "cell_type": "code",
   "execution_count": 15,
   "id": "466a103b",
   "metadata": {},
   "outputs": [],
   "source": [
    "grados_lat = grados_lat.to_numpy() \n",
    "minutos_lat = minutos_lat.to_numpy()\n",
    "segundos_lat = segundos_lat.to_numpy()"
   ]
  },
  {
   "cell_type": "markdown",
   "id": "0ead1380",
   "metadata": {},
   "source": [
    "**Preparar columna lon GMS para transformar a decimales**"
   ]
  },
  {
   "cell_type": "code",
   "execution_count": 16,
   "id": "8db0e55a",
   "metadata": {},
   "outputs": [],
   "source": [
    "pri_div = df_1[\"lon GMS\"].apply(lambda x: pd.Series(str(x).split(\"°\")))\n",
    "seg_div = pri_div[1].apply(lambda x: pd.Series(str(x).split(\"′\")))\n",
    "ter_div = seg_div[1].apply(lambda x: pd.Series(str(x).split(\"″O\")))"
   ]
  },
  {
   "cell_type": "code",
   "execution_count": 17,
   "id": "367d7831",
   "metadata": {},
   "outputs": [],
   "source": [
    "grados_lon = (pri_div[0])\n",
    "minutos_lon = seg_div[0]\n",
    "segundos_lon = ter_div[0]"
   ]
  },
  {
   "cell_type": "code",
   "execution_count": 18,
   "id": "c44aa9f7",
   "metadata": {},
   "outputs": [],
   "source": [
    "grados_lon = (grados_lon).apply(float)\n",
    "minutos_lon = (minutos_lon).apply(float)\n",
    "segundos_lon = (segundos_lon).apply(float)"
   ]
  },
  {
   "cell_type": "code",
   "execution_count": 19,
   "id": "49cd2d06",
   "metadata": {},
   "outputs": [
    {
     "name": "stdout",
     "output_type": "stream",
     "text": [
      "30946\n",
      "30946\n",
      "30946\n"
     ]
    }
   ],
   "source": [
    "print(len(grados_lon))\n",
    "print(len(minutos_lon))\n",
    "print(len(segundos_lon))"
   ]
  },
  {
   "cell_type": "code",
   "execution_count": 20,
   "id": "1f3f6385",
   "metadata": {},
   "outputs": [],
   "source": [
    "grados_lon = grados_lon.to_numpy() \n",
    "minutos_lon = minutos_lon.to_numpy()\n",
    "segundos_lon = segundos_lon.to_numpy()"
   ]
  },
  {
   "cell_type": "markdown",
   "id": "efffbe7e",
   "metadata": {},
   "source": [
    "**Función conversora para lat GMS**"
   ]
  },
  {
   "cell_type": "code",
   "execution_count": 21,
   "id": "9fd68487",
   "metadata": {},
   "outputs": [],
   "source": [
    "def tras_decimal_lat(grados, minutos,segundos):\n",
    "    decimales = []\n",
    "    for i in range(30946):\n",
    "        decimal = grados[i] + (minutos[i]/60) + (segundos[i]/3600)\n",
    "        decimales.append(decimal)\n",
    "    return(decimales)"
   ]
  },
  {
   "cell_type": "markdown",
   "id": "04e9a881",
   "metadata": {},
   "source": [
    "**Función conversora para lon GMS**"
   ]
  },
  {
   "cell_type": "code",
   "execution_count": 22,
   "id": "6f3c742c",
   "metadata": {},
   "outputs": [],
   "source": [
    "def tras_decimal_lon(grados, minutos,segundos):\n",
    "    decimales = []\n",
    "    for i in range(30946):\n",
    "        decimal = grados[i] + (minutos[i]/60) + (segundos[i]/3600)\n",
    "        decimal = decimal*-1\n",
    "        decimales.append(decimal)\n",
    "    return(decimales)"
   ]
  },
  {
   "cell_type": "code",
   "execution_count": 23,
   "id": "37214c4f",
   "metadata": {},
   "outputs": [],
   "source": [
    "lat_GMS = tras_decimal_lat(grados_lat,minutos_lat,segundos_lat)"
   ]
  },
  {
   "cell_type": "code",
   "execution_count": 24,
   "id": "20cbdc08",
   "metadata": {},
   "outputs": [],
   "source": [
    "lon_GMS = tras_decimal_lon(grados_lon,minutos_lon,segundos_lon)"
   ]
  },
  {
   "cell_type": "markdown",
   "id": "43b2ca15",
   "metadata": {},
   "source": [
    "**Sustituir los arreglos obtenidos en el dataframe copia**"
   ]
  },
  {
   "cell_type": "code",
   "execution_count": 25,
   "id": "650b563f",
   "metadata": {},
   "outputs": [
    {
     "data": {
      "text/plain": [
       "0        19°21′45.380″N\n",
       "1         19°21′9.144″N\n",
       "2         19°21′4.504″N\n",
       "3        19°19′54.833″N\n",
       "4        19°21′27.907″N\n",
       "              ...      \n",
       "30946    19°26′32.978″N\n",
       "30947    19°18′11.974″N\n",
       "30948    19°18′11.974″N\n",
       "30949    19°31′11.276″N\n",
       "30950    19°31′11.276″N\n",
       "Name: lat GMS, Length: 30946, dtype: string"
      ]
     },
     "execution_count": 25,
     "metadata": {},
     "output_type": "execute_result"
    }
   ],
   "source": [
    "# df_1.drop(columns=[\"lat GMS\"],inplace=True)\n",
    "df_1.pop(\"lat GMS\")\n"
   ]
  },
  {
   "cell_type": "code",
   "execution_count": 26,
   "id": "fded2105",
   "metadata": {
    "scrolled": true
   },
   "outputs": [
    {
     "data": {
      "text/plain": [
       "0        99°15′10.643″O\n",
       "1         99°0′37.404″O\n",
       "2         99°0′35.969″O\n",
       "3        99°19′32.656″O\n",
       "4         99°15′3.780″O\n",
       "              ...      \n",
       "30946     99°5′16.332″O\n",
       "30947    99°10′30.871″O\n",
       "30948    99°10′30.871″O\n",
       "30949     99°8′12.404″O\n",
       "30950     99°8′12.404″O\n",
       "Name: lon GMS, Length: 30946, dtype: string"
      ]
     },
     "execution_count": 26,
     "metadata": {},
     "output_type": "execute_result"
    }
   ],
   "source": [
    "df_1.pop(\"lon GMS\")"
   ]
  },
  {
   "cell_type": "code",
   "execution_count": 27,
   "id": "9ef8f416",
   "metadata": {
    "scrolled": true
   },
   "outputs": [
    {
     "name": "stderr",
     "output_type": "stream",
     "text": [
      "C:\\Users\\regin\\AppData\\Local\\Temp\\ipykernel_24340\\2023291818.py:1: SettingWithCopyWarning: \n",
      "A value is trying to be set on a copy of a slice from a DataFrame.\n",
      "Try using .loc[row_indexer,col_indexer] = value instead\n",
      "\n",
      "See the caveats in the documentation: https://pandas.pydata.org/pandas-docs/stable/user_guide/indexing.html#returning-a-view-versus-a-copy\n",
      "  df_1[\"lat GMS\"] =lat_GMS\n"
     ]
    }
   ],
   "source": [
    "df_1[\"lat GMS\"] =lat_GMS"
   ]
  },
  {
   "cell_type": "code",
   "execution_count": 28,
   "id": "070c01e7",
   "metadata": {},
   "outputs": [
    {
     "name": "stderr",
     "output_type": "stream",
     "text": [
      "C:\\Users\\regin\\AppData\\Local\\Temp\\ipykernel_24340\\115213340.py:1: SettingWithCopyWarning: \n",
      "A value is trying to be set on a copy of a slice from a DataFrame.\n",
      "Try using .loc[row_indexer,col_indexer] = value instead\n",
      "\n",
      "See the caveats in the documentation: https://pandas.pydata.org/pandas-docs/stable/user_guide/indexing.html#returning-a-view-versus-a-copy\n",
      "  df_1[\"lon GMS\"] =lon_GMS\n"
     ]
    }
   ],
   "source": [
    "df_1[\"lon GMS\"] =lon_GMS"
   ]
  },
  {
   "cell_type": "code",
   "execution_count": 29,
   "id": "7dabd604",
   "metadata": {
    "scrolled": false
   },
   "outputs": [
    {
     "data": {
      "text/html": [
       "<div>\n",
       "<style scoped>\n",
       "    .dataframe tbody tr th:only-of-type {\n",
       "        vertical-align: middle;\n",
       "    }\n",
       "\n",
       "    .dataframe tbody tr th {\n",
       "        vertical-align: top;\n",
       "    }\n",
       "\n",
       "    .dataframe thead th {\n",
       "        text-align: right;\n",
       "    }\n",
       "</style>\n",
       "<table border=\"1\" class=\"dataframe\">\n",
       "  <thead>\n",
       "    <tr style=\"text-align: right;\">\n",
       "      <th></th>\n",
       "      <th>id</th>\n",
       "      <th>colonia</th>\n",
       "      <th>alcaldia</th>\n",
       "      <th>lat GMS</th>\n",
       "      <th>lon GMS</th>\n",
       "    </tr>\n",
       "  </thead>\n",
       "  <tbody>\n",
       "    <tr>\n",
       "      <th>0</th>\n",
       "      <td>19 DE MAYO-01</td>\n",
       "      <td>19 DE MAYO</td>\n",
       "      <td>Álvaro Obregón</td>\n",
       "      <td>19.362606</td>\n",
       "      <td>-99.252956</td>\n",
       "    </tr>\n",
       "    <tr>\n",
       "      <th>1</th>\n",
       "      <td>1A AMPLIACION SANTIAGO ACAHUALTEPEC-01</td>\n",
       "      <td>1A AMPLIACION SANTIAGO ACAHUALTEPEC</td>\n",
       "      <td>Iztapalapa</td>\n",
       "      <td>19.352540</td>\n",
       "      <td>-99.010390</td>\n",
       "    </tr>\n",
       "    <tr>\n",
       "      <th>2</th>\n",
       "      <td>1A AMPLIACION SANTIAGO ACAHUALTEPEC-02</td>\n",
       "      <td>1A AMPLIACION SANTIAGO ACAHUALTEPEC</td>\n",
       "      <td>Iztapalapa</td>\n",
       "      <td>19.351251</td>\n",
       "      <td>-99.009991</td>\n",
       "    </tr>\n",
       "    <tr>\n",
       "      <th>3</th>\n",
       "      <td>SAN LORENZO ACOPILCO (PBLO)-01</td>\n",
       "      <td>SAN LORENZO ACOPILCO (PBLO)</td>\n",
       "      <td>Cuajimalpa de Morelos</td>\n",
       "      <td>19.331898</td>\n",
       "      <td>-99.325738</td>\n",
       "    </tr>\n",
       "    <tr>\n",
       "      <th>4</th>\n",
       "      <td>26 DE JULIO-01</td>\n",
       "      <td>26 DE JULIO</td>\n",
       "      <td>Álvaro Obregón</td>\n",
       "      <td>19.357752</td>\n",
       "      <td>-99.251050</td>\n",
       "    </tr>\n",
       "    <tr>\n",
       "      <th>...</th>\n",
       "      <td>...</td>\n",
       "      <td>...</td>\n",
       "      <td>...</td>\n",
       "      <td>...</td>\n",
       "      <td>...</td>\n",
       "    </tr>\n",
       "    <tr>\n",
       "      <th>30946</th>\n",
       "      <td>1504_INVI_02</td>\n",
       "      <td>TRANSVAL 231, COL. PENSADOR MEXICANO</td>\n",
       "      <td>Venustiano Carranza</td>\n",
       "      <td>19.442494</td>\n",
       "      <td>-99.087870</td>\n",
       "    </tr>\n",
       "    <tr>\n",
       "      <th>30947</th>\n",
       "      <td>5104_PROSOC_01</td>\n",
       "      <td>PERIFERICO SUR NO.3915 COL. PEDREGAL DE CARRAZCO</td>\n",
       "      <td>Coyoacán</td>\n",
       "      <td>19.303326</td>\n",
       "      <td>-99.175242</td>\n",
       "    </tr>\n",
       "    <tr>\n",
       "      <th>30948</th>\n",
       "      <td>5104_PROSOC_02</td>\n",
       "      <td>PERIFERICO SUR NO.3915 COL. PEDREGAL DE CARRAZCO</td>\n",
       "      <td>Coyoacán</td>\n",
       "      <td>19.303326</td>\n",
       "      <td>-99.175242</td>\n",
       "    </tr>\n",
       "    <tr>\n",
       "      <th>30949</th>\n",
       "      <td>710_INVI_01</td>\n",
       "      <td>ACUEDUCTO 941 ANTES ACUEDUCTO 917 O 941, COL. ...</td>\n",
       "      <td>Gustavo A. Madero</td>\n",
       "      <td>19.519799</td>\n",
       "      <td>-99.136779</td>\n",
       "    </tr>\n",
       "    <tr>\n",
       "      <th>30950</th>\n",
       "      <td>710_INVI_02</td>\n",
       "      <td>ACUEDUCTO 941 ANTES ACUEDUCTO 917 O 941, COL. ...</td>\n",
       "      <td>Gustavo A. Madero</td>\n",
       "      <td>19.519799</td>\n",
       "      <td>-99.136779</td>\n",
       "    </tr>\n",
       "  </tbody>\n",
       "</table>\n",
       "<p>30946 rows × 5 columns</p>\n",
       "</div>"
      ],
      "text/plain": [
       "                                           id  \\\n",
       "0                               19 DE MAYO-01   \n",
       "1      1A AMPLIACION SANTIAGO ACAHUALTEPEC-01   \n",
       "2      1A AMPLIACION SANTIAGO ACAHUALTEPEC-02   \n",
       "3              SAN LORENZO ACOPILCO (PBLO)-01   \n",
       "4                              26 DE JULIO-01   \n",
       "...                                       ...   \n",
       "30946                            1504_INVI_02   \n",
       "30947                          5104_PROSOC_01   \n",
       "30948                          5104_PROSOC_02   \n",
       "30949                             710_INVI_01   \n",
       "30950                             710_INVI_02   \n",
       "\n",
       "                                                 colonia  \\\n",
       "0                                             19 DE MAYO   \n",
       "1                    1A AMPLIACION SANTIAGO ACAHUALTEPEC   \n",
       "2                    1A AMPLIACION SANTIAGO ACAHUALTEPEC   \n",
       "3                            SAN LORENZO ACOPILCO (PBLO)   \n",
       "4                                            26 DE JULIO   \n",
       "...                                                  ...   \n",
       "30946               TRANSVAL 231, COL. PENSADOR MEXICANO   \n",
       "30947   PERIFERICO SUR NO.3915 COL. PEDREGAL DE CARRAZCO   \n",
       "30948   PERIFERICO SUR NO.3915 COL. PEDREGAL DE CARRAZCO   \n",
       "30949  ACUEDUCTO 941 ANTES ACUEDUCTO 917 O 941, COL. ...   \n",
       "30950  ACUEDUCTO 941 ANTES ACUEDUCTO 917 O 941, COL. ...   \n",
       "\n",
       "                    alcaldia    lat GMS    lon GMS  \n",
       "0             Álvaro Obregón  19.362606 -99.252956  \n",
       "1                 Iztapalapa  19.352540 -99.010390  \n",
       "2                 Iztapalapa  19.351251 -99.009991  \n",
       "3      Cuajimalpa de Morelos  19.331898 -99.325738  \n",
       "4             Álvaro Obregón  19.357752 -99.251050  \n",
       "...                      ...        ...        ...  \n",
       "30946    Venustiano Carranza  19.442494 -99.087870  \n",
       "30947               Coyoacán  19.303326 -99.175242  \n",
       "30948               Coyoacán  19.303326 -99.175242  \n",
       "30949      Gustavo A. Madero  19.519799 -99.136779  \n",
       "30950      Gustavo A. Madero  19.519799 -99.136779  \n",
       "\n",
       "[30946 rows x 5 columns]"
      ]
     },
     "execution_count": 29,
     "metadata": {},
     "output_type": "execute_result"
    }
   ],
   "source": [
    "df_1"
   ]
  },
  {
   "cell_type": "markdown",
   "id": "cc448b4e",
   "metadata": {},
   "source": [
    "**Crear nuevo archivo csv**"
   ]
  },
  {
   "cell_type": "code",
   "execution_count": 30,
   "id": "bdb0cfb6",
   "metadata": {},
   "outputs": [],
   "source": [
    "df_1.to_csv(\"../SIG/csv/Coordenadas_GMS_decimal.csv\")"
   ]
  },
  {
   "cell_type": "markdown",
   "id": "bec1522e",
   "metadata": {},
   "source": [
    "**La asignación de signos:** \n",
    "\n",
    "**Latitud** \n",
    "Sur: negativo\n",
    "Norte: positivo\n",
    "\n",
    "**Longitud**\n",
    "Este: positivo\n",
    "Oeste:negativo\n",
    "\n",
    "En este caso como todas las latitudes son en cuadrante norte serán postivas,y todas las longitudes están en el cuadrante Oeste serán negativas"
   ]
  },
  {
   "cell_type": "code",
   "execution_count": null,
   "id": "854f2933",
   "metadata": {},
   "outputs": [],
   "source": []
  }
 ],
 "metadata": {
  "kernelspec": {
   "display_name": "Python 3 (ipykernel)",
   "language": "python",
   "name": "python3"
  },
  "language_info": {
   "codemirror_mode": {
    "name": "ipython",
    "version": 3
   },
   "file_extension": ".py",
   "mimetype": "text/x-python",
   "name": "python",
   "nbconvert_exporter": "python",
   "pygments_lexer": "ipython3",
   "version": "3.9.12"
  }
 },
 "nbformat": 4,
 "nbformat_minor": 5
}
